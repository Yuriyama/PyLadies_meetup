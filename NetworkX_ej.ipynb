{
 "cells": [
  {
   "cell_type": "markdown",
   "metadata": {},
   "source": [
    "# NetworkX"
   ]
  },
  {
   "cell_type": "code",
   "execution_count": 1,
   "metadata": {},
   "outputs": [
    {
     "name": "stdout",
     "output_type": "stream",
     "text": [
      "Python 3.7.2\r\n"
     ]
    }
   ],
   "source": [
    "!python3 --version"
   ]
  },
  {
   "cell_type": "markdown",
   "metadata": {},
   "source": [
    "#### Importamos paqueterías"
   ]
  },
  {
   "cell_type": "code",
   "execution_count": 1,
   "metadata": {},
   "outputs": [],
   "source": [
    "import networkx as nx"
   ]
  },
  {
   "cell_type": "code",
   "execution_count": 2,
   "metadata": {},
   "outputs": [],
   "source": [
    "import numpy as np"
   ]
  },
  {
   "cell_type": "code",
   "execution_count": 3,
   "metadata": {},
   "outputs": [],
   "source": [
    "from numpy import genfromtxt"
   ]
  },
  {
   "cell_type": "code",
   "execution_count": 4,
   "metadata": {},
   "outputs": [],
   "source": [
    "import matplotlib.pyplot as plt"
   ]
  },
  {
   "cell_type": "code",
   "execution_count": 5,
   "metadata": {},
   "outputs": [],
   "source": [
    "import csv"
   ]
  },
  {
   "cell_type": "code",
   "execution_count": 6,
   "metadata": {},
   "outputs": [],
   "source": [
    "mydata = genfromtxt('/Users/yuriko/Documents/UNAM/Tesis_Lic/data/aerolineas_matrices/AM_matriz_du.csv', delimiter=',')"
   ]
  },
  {
   "cell_type": "code",
   "execution_count": 7,
   "metadata": {},
   "outputs": [
    {
     "name": "stdout",
     "output_type": "stream",
     "text": [
      "[[nan nan nan ... nan nan nan]\n",
      " [nan  0.  0. ...  0.  0.  0.]\n",
      " [nan  0.  0. ...  0.  0.  0.]\n",
      " ...\n",
      " [nan  0.  0. ...  0.  0.  0.]\n",
      " [nan  0.  0. ...  0.  0.  0.]\n",
      " [nan  0.  0. ...  0.  0.  0.]]\n"
     ]
    }
   ],
   "source": [
    "print(mydata)"
   ]
  },
  {
   "cell_type": "code",
   "execution_count": 8,
   "metadata": {
    "scrolled": false
   },
   "outputs": [
    {
     "name": "stdout",
     "output_type": "stream",
     "text": [
      "<class 'numpy.ndarray'>\n"
     ]
    }
   ],
   "source": [
    "print(type(mydata))"
   ]
  },
  {
   "cell_type": "code",
   "execution_count": 9,
   "metadata": {},
   "outputs": [
    {
     "name": "stdout",
     "output_type": "stream",
     "text": [
      "[[0. 0. 0. ... 0. 0. 0.]\n",
      " [0. 0. 0. ... 0. 0. 0.]\n",
      " [0. 0. 0. ... 0. 0. 0.]\n",
      " ...\n",
      " [0. 0. 0. ... 0. 0. 0.]\n",
      " [0. 0. 0. ... 0. 0. 0.]\n",
      " [0. 0. 0. ... 0. 0. 0.]]\n"
     ]
    }
   ],
   "source": [
    "adjacency = mydata[1:,1:]\n",
    "print(adjacency)"
   ]
  },
  {
   "cell_type": "markdown",
   "metadata": {},
   "source": [
    "Lo que sigue no sirve..."
   ]
  },
  {
   "cell_type": "code",
   "execution_count": 10,
   "metadata": {},
   "outputs": [
    {
     "ename": "SyntaxError",
     "evalue": "invalid syntax (<ipython-input-10-adc1cb638dd3>, line 15)",
     "output_type": "error",
     "traceback": [
      "\u001b[0;36m  File \u001b[0;32m\"<ipython-input-10-adc1cb638dd3>\"\u001b[0;36m, line \u001b[0;32m15\u001b[0m\n\u001b[0;31m    print get_labels('mycsv.csv')\u001b[0m\n\u001b[0m                   ^\u001b[0m\n\u001b[0;31mSyntaxError\u001b[0m\u001b[0;31m:\u001b[0m invalid syntax\n"
     ]
    }
   ],
   "source": [
    "def get_labels(csvfile):\n",
    "    with open(csvfile) as f:\n",
    "        reader = csv.reader(f)\n",
    "        # get the first line in csv\n",
    "        labels = reader.next()\n",
    "    # return just the letters from pos 1 on\n",
    "    return labels[1:]\n",
    "\n",
    "def make_label_dict(labels):\n",
    "    l = {}\n",
    "    for i, label in enumerate(labels):\n",
    "        l[i] = label\n",
    "    return l\n",
    "\n",
    "print get_labels('mycsv.csv')\n",
    "print make_label_dict(get_labels('mycsv.csv'))"
   ]
  },
  {
   "cell_type": "code",
   "execution_count": null,
   "metadata": {},
   "outputs": [],
   "source": [
    "def get_labels(csvfile):\n",
    "    with open(csvfile) as f:\n",
    "        reader = csv.reader(f)\n",
    "        # get the first line in csv\n",
    "        labels = next(f)\n",
    "    # return just the letters from pos 1 on\n",
    "    return labels#[1:]\n",
    "\n",
    "def make_label_dict(labels):\n",
    "    l = {}\n",
    "    for i, label in enumerate(labels):\n",
    "        l[i] = label\n",
    "    return l\n",
    "\n",
    "print get_labels('/Users/yuriko/Documents/UNAM/Tesis_Lic/data/aerolineas_matrices/AM_matriz_du.csv')\n",
    "print make_label_dict(get_labels('/Users/yuriko/Documents/UNAM/Tesis_Lic/data/aerolineas_matrices/AM_matriz_du.csv'))\n"
   ]
  },
  {
   "cell_type": "code",
   "execution_count": null,
   "metadata": {},
   "outputs": [],
   "source": [
    "def show_graph_with_labels(adjacency_matrix, mylabels):\n",
    "    rows, cols = np.where(adjacency_matrix == 1)\n",
    "    edges = zip(rows.tolist(), cols.tolist())\n",
    "    gr = nx.Graph()\n",
    "    gr.add_edges_from(edges)\n",
    "    nx.draw(gr, node_size=500, labels=mylabels, with_labels=True)\n",
    "    plt.show()\n",
    "\n",
    "show_graph_with_labels(adjacency, make_label_dict(get_labels('/Users/yuriko/Documents/UNAM/Tesis_Lic/data/aerolineas_matrices/AM_matriz_du.csv')))"
   ]
  },
  {
   "cell_type": "code",
   "execution_count": null,
   "metadata": {},
   "outputs": [],
   "source": [
    "def show_graph_with_labels(adjacency_matrix, mylabels):\n",
    "    rows, cols = np.where(adjacency_matrix == 1)\n",
    "    edges = zip(rows.tolist(), cols.tolist())\n",
    "    gr = nx.Graph()\n",
    "    all_rows = range(0, adjacency_matrix.shape[0])\n",
    "    for n in all_rows:\n",
    "        gr.add_node(n)\n",
    "    gr.add_edges_from(edges)\n",
    "    nx.draw(gr, node_size=900, labels=mylabels, with_labels=True)\n",
    "    plt.show()"
   ]
  },
  {
   "cell_type": "code",
   "execution_count": null,
   "metadata": {},
   "outputs": [],
   "source": []
  },
  {
   "cell_type": "code",
   "execution_count": null,
   "metadata": {},
   "outputs": [],
   "source": []
  },
  {
   "cell_type": "code",
   "execution_count": null,
   "metadata": {},
   "outputs": [],
   "source": []
  },
  {
   "cell_type": "markdown",
   "metadata": {},
   "source": [
    "#### Cargamos datos. (Esto sí sirve)\n",
    "\n",
    "Archivo csv con la matriz de vuelos de aeroméxico."
   ]
  },
  {
   "cell_type": "code",
   "execution_count": 11,
   "metadata": {},
   "outputs": [],
   "source": [
    "import pandas as pd\n",
    "import networkx as nx\n",
    "input_data = pd.read_csv('/Users/yuriko/Documents/UNAM/Tesis_Lic/data/aerolineas_matrices/AM_matriz_du.csv', index_col=0)\n",
    "G = nx.DiGraph(input_data.values)"
   ]
  },
  {
   "cell_type": "code",
   "execution_count": 12,
   "metadata": {},
   "outputs": [
    {
     "data": {
      "text/html": [
       "<div>\n",
       "<style scoped>\n",
       "    .dataframe tbody tr th:only-of-type {\n",
       "        vertical-align: middle;\n",
       "    }\n",
       "\n",
       "    .dataframe tbody tr th {\n",
       "        vertical-align: top;\n",
       "    }\n",
       "\n",
       "    .dataframe thead th {\n",
       "        text-align: right;\n",
       "    }\n",
       "</style>\n",
       "<table border=\"1\" class=\"dataframe\">\n",
       "  <thead>\n",
       "    <tr style=\"text-align: right;\">\n",
       "      <th></th>\n",
       "      <th>ACA</th>\n",
       "      <th>BJX</th>\n",
       "      <th>BOG</th>\n",
       "      <th>BRU</th>\n",
       "      <th>CCS</th>\n",
       "      <th>CDG</th>\n",
       "      <th>CJS</th>\n",
       "      <th>CLQ</th>\n",
       "      <th>CME</th>\n",
       "      <th>CUL</th>\n",
       "      <th>...</th>\n",
       "      <th>TAP</th>\n",
       "      <th>TGZ</th>\n",
       "      <th>TIJ</th>\n",
       "      <th>TPQ</th>\n",
       "      <th>TRC</th>\n",
       "      <th>UIO</th>\n",
       "      <th>VER</th>\n",
       "      <th>VSA</th>\n",
       "      <th>YUL</th>\n",
       "      <th>VVI</th>\n",
       "    </tr>\n",
       "  </thead>\n",
       "  <tbody>\n",
       "    <tr>\n",
       "      <th>ACA</th>\n",
       "      <td>0</td>\n",
       "      <td>0</td>\n",
       "      <td>0</td>\n",
       "      <td>0</td>\n",
       "      <td>0</td>\n",
       "      <td>0</td>\n",
       "      <td>0</td>\n",
       "      <td>0</td>\n",
       "      <td>0</td>\n",
       "      <td>0</td>\n",
       "      <td>...</td>\n",
       "      <td>0</td>\n",
       "      <td>0</td>\n",
       "      <td>0</td>\n",
       "      <td>0</td>\n",
       "      <td>0</td>\n",
       "      <td>0</td>\n",
       "      <td>0</td>\n",
       "      <td>0</td>\n",
       "      <td>0</td>\n",
       "      <td>0</td>\n",
       "    </tr>\n",
       "    <tr>\n",
       "      <th>BJX</th>\n",
       "      <td>0</td>\n",
       "      <td>0</td>\n",
       "      <td>0</td>\n",
       "      <td>0</td>\n",
       "      <td>0</td>\n",
       "      <td>0</td>\n",
       "      <td>0</td>\n",
       "      <td>0</td>\n",
       "      <td>0</td>\n",
       "      <td>0</td>\n",
       "      <td>...</td>\n",
       "      <td>0</td>\n",
       "      <td>0</td>\n",
       "      <td>1</td>\n",
       "      <td>0</td>\n",
       "      <td>0</td>\n",
       "      <td>0</td>\n",
       "      <td>0</td>\n",
       "      <td>0</td>\n",
       "      <td>0</td>\n",
       "      <td>0</td>\n",
       "    </tr>\n",
       "    <tr>\n",
       "      <th>BOG</th>\n",
       "      <td>0</td>\n",
       "      <td>0</td>\n",
       "      <td>0</td>\n",
       "      <td>0</td>\n",
       "      <td>0</td>\n",
       "      <td>0</td>\n",
       "      <td>0</td>\n",
       "      <td>0</td>\n",
       "      <td>0</td>\n",
       "      <td>0</td>\n",
       "      <td>...</td>\n",
       "      <td>0</td>\n",
       "      <td>0</td>\n",
       "      <td>0</td>\n",
       "      <td>0</td>\n",
       "      <td>0</td>\n",
       "      <td>0</td>\n",
       "      <td>0</td>\n",
       "      <td>0</td>\n",
       "      <td>0</td>\n",
       "      <td>0</td>\n",
       "    </tr>\n",
       "    <tr>\n",
       "      <th>BRU</th>\n",
       "      <td>0</td>\n",
       "      <td>0</td>\n",
       "      <td>0</td>\n",
       "      <td>0</td>\n",
       "      <td>0</td>\n",
       "      <td>0</td>\n",
       "      <td>0</td>\n",
       "      <td>0</td>\n",
       "      <td>0</td>\n",
       "      <td>0</td>\n",
       "      <td>...</td>\n",
       "      <td>0</td>\n",
       "      <td>0</td>\n",
       "      <td>0</td>\n",
       "      <td>0</td>\n",
       "      <td>0</td>\n",
       "      <td>0</td>\n",
       "      <td>0</td>\n",
       "      <td>0</td>\n",
       "      <td>0</td>\n",
       "      <td>0</td>\n",
       "    </tr>\n",
       "    <tr>\n",
       "      <th>CCS</th>\n",
       "      <td>0</td>\n",
       "      <td>0</td>\n",
       "      <td>0</td>\n",
       "      <td>0</td>\n",
       "      <td>0</td>\n",
       "      <td>0</td>\n",
       "      <td>0</td>\n",
       "      <td>0</td>\n",
       "      <td>0</td>\n",
       "      <td>0</td>\n",
       "      <td>...</td>\n",
       "      <td>0</td>\n",
       "      <td>0</td>\n",
       "      <td>0</td>\n",
       "      <td>0</td>\n",
       "      <td>0</td>\n",
       "      <td>0</td>\n",
       "      <td>0</td>\n",
       "      <td>0</td>\n",
       "      <td>0</td>\n",
       "      <td>0</td>\n",
       "    </tr>\n",
       "  </tbody>\n",
       "</table>\n",
       "<p>5 rows × 67 columns</p>\n",
       "</div>"
      ],
      "text/plain": [
       "     ACA  BJX  BOG  BRU  CCS  CDG  CJS  CLQ  CME  CUL  ...  TAP  TGZ  TIJ  \\\n",
       "ACA    0    0    0    0    0    0    0    0    0    0  ...    0    0    0   \n",
       "BJX    0    0    0    0    0    0    0    0    0    0  ...    0    0    1   \n",
       "BOG    0    0    0    0    0    0    0    0    0    0  ...    0    0    0   \n",
       "BRU    0    0    0    0    0    0    0    0    0    0  ...    0    0    0   \n",
       "CCS    0    0    0    0    0    0    0    0    0    0  ...    0    0    0   \n",
       "\n",
       "     TPQ  TRC  UIO  VER  VSA  YUL  VVI  \n",
       "ACA    0    0    0    0    0    0    0  \n",
       "BJX    0    0    0    0    0    0    0  \n",
       "BOG    0    0    0    0    0    0    0  \n",
       "BRU    0    0    0    0    0    0    0  \n",
       "CCS    0    0    0    0    0    0    0  \n",
       "\n",
       "[5 rows x 67 columns]"
      ]
     },
     "execution_count": 12,
     "metadata": {},
     "output_type": "execute_result"
    }
   ],
   "source": [
    "input_data.head()"
   ]
  },
  {
   "cell_type": "code",
   "execution_count": 13,
   "metadata": {},
   "outputs": [
    {
     "name": "stdout",
     "output_type": "stream",
     "text": [
      "['ACA', 'BJX', 'BOG', 'BRU', 'CCS', 'CDG', 'CJS', 'CLQ', 'CME', 'CUL', 'CUN', 'CUU', 'CVM', 'EZE', 'FAT', 'GDL', 'GRU', 'HAV', 'HMO', 'IAD', 'IAH', 'JAL', 'JFK', 'LAS', 'LAX', 'LHR', 'LIM', 'LPB', 'LZC', 'MAD', 'MCO', 'MEX', 'MIA', 'MID', 'MLM', 'MTY', 'MXL', 'MZT', 'NRT', 'OAX', 'ONT', 'ORD', 'PAZ', 'PDS', 'PHX', 'POS', 'PTY', 'PVG', 'PVR', 'PXM', 'REX', 'SCL', 'SFO', 'SJD', 'SJO', 'SMF', 'TAM', 'TAP', 'TGZ', 'TIJ', 'TPQ', 'TRC', 'UIO', 'VER', 'VSA', 'YUL', 'VVI']\n"
     ]
    }
   ],
   "source": [
    "mylabels = list(input_data.columns)\n",
    "print(mylabels)"
   ]
  },
  {
   "cell_type": "code",
   "execution_count": 14,
   "metadata": {},
   "outputs": [
    {
     "data": {
      "image/png": "[encoded data removed]",
      "text/plain": [
       "<Figure size 432x288 with 1 Axes>"
      ]
     },
     "metadata": {},
     "output_type": "display_data"
    }
   ],
   "source": [
    "nx.draw(G, with_labels=True)"
   ]
  },
  {
   "cell_type": "code",
   "execution_count": null,
   "metadata": {},
   "outputs": [],
   "source": []
  },
  {
   "cell_type": "code",
   "execution_count": null,
   "metadata": {},
   "outputs": [],
   "source": []
  },
  {
   "cell_type": "code",
   "execution_count": null,
   "metadata": {},
   "outputs": [],
   "source": []
  },
  {
   "cell_type": "code",
   "execution_count": null,
   "metadata": {},
   "outputs": [],
   "source": []
  },
  {
   "cell_type": "code",
   "execution_count": null,
   "metadata": {},
   "outputs": [],
   "source": []
  },
  {
   "cell_type": "code",
   "execution_count": null,
   "metadata": {},
   "outputs": [],
   "source": []
  },
  {
   "cell_type": "code",
   "execution_count": null,
   "metadata": {},
   "outputs": [],
   "source": []
  },
  {
   "cell_type": "code",
   "execution_count": null,
   "metadata": {},
   "outputs": [],
   "source": []
  },
  {
   "cell_type": "code",
   "execution_count": null,
   "metadata": {},
   "outputs": [],
   "source": []
  },
  {
   "cell_type": "code",
   "execution_count": null,
   "metadata": {},
   "outputs": [],
   "source": [
    "#G = nx.Graph(spamreader)"
   ]
  },
  {
   "cell_type": "code",
   "execution_count": null,
   "metadata": {
    "scrolled": true
   },
   "outputs": [],
   "source": [
    "with open('/Users/yuriko/Documents/UNAM/Tesis_Lic/data/aerolineas_matrices/AM_matriz_du.csv', newline='') as csvfile:\n",
    "    spamreader = csv.reader(csvfile) #, delimiter=' ')\n",
    "    \n",
    "    #i = next(spamreader)\n",
    "    \n",
    "    \n",
    "    print(i)\n",
    "    \n",
    "    #print(i)\n",
    "    \n",
    "    for row in spamreader:\n",
    "        print(row)\n",
    "    \n",
    "    "
   ]
  },
  {
   "cell_type": "code",
   "execution_count": null,
   "metadata": {},
   "outputs": [],
   "source": [
    "with open('/Users/yuriko/Documents/UNAM/Tesis_Lic/data/aerolineas_matrices/AM_matriz_du.csv', newline='') as csvfile:\n",
    "    spamreader = csv.reader(csvfile)\n",
    "    \n",
    "    next(spamreader)\n",
    "    \n",
    "    for row in spamreader:\n",
    "        \n",
    "        #quitar primer elemento\n",
    "        del row[0]\n",
    "        \n",
    "        #print(', '.join(row))\n",
    "        print(row)"
   ]
  },
  {
   "cell_type": "code",
   "execution_count": null,
   "metadata": {},
   "outputs": [],
   "source": []
  },
  {
   "cell_type": "code",
   "execution_count": null,
   "metadata": {
    "scrolled": true
   },
   "outputs": [],
   "source": [
    "x = list(row)\n",
    "result = np.array(x).astype(\"int\")"
   ]
  },
  {
   "cell_type": "code",
   "execution_count": null,
   "metadata": {},
   "outputs": [],
   "source": [
    "print(result)"
   ]
  },
  {
   "cell_type": "code",
   "execution_count": null,
   "metadata": {},
   "outputs": [],
   "source": []
  },
  {
   "cell_type": "code",
   "execution_count": null,
   "metadata": {},
   "outputs": [],
   "source": [
    "rows = [row for row in spamreader]"
   ]
  },
  {
   "cell_type": "code",
   "execution_count": null,
   "metadata": {},
   "outputs": [],
   "source": [
    "print(rows)"
   ]
  },
  {
   "cell_type": "code",
   "execution_count": null,
   "metadata": {},
   "outputs": [],
   "source": []
  },
  {
   "cell_type": "code",
   "execution_count": null,
   "metadata": {},
   "outputs": [],
   "source": []
  },
  {
   "cell_type": "code",
   "execution_count": null,
   "metadata": {},
   "outputs": [],
   "source": []
  },
  {
   "cell_type": "code",
   "execution_count": null,
   "metadata": {},
   "outputs": [],
   "source": [
    "rest"
   ]
  },
  {
   "cell_type": "markdown",
   "metadata": {},
   "source": [
    "#### Red\n",
    "\n",
    "Creamos la red de Aeroméxico a partir de la matriz de adyacencia."
   ]
  },
  {
   "cell_type": "code",
   "execution_count": null,
   "metadata": {},
   "outputs": [],
   "source": [
    "nx.Graph()"
   ]
  },
  {
   "cell_type": "code",
   "execution_count": null,
   "metadata": {},
   "outputs": [],
   "source": []
  }
 ],
 "metadata": {
  "@webio": {
   "lastCommId": null,
   "lastKernelId": null
  },
  "kernelspec": {
   "display_name": "Python 3",
   "language": "python",
   "name": "python3"
  },
  "language_info": {
   "codemirror_mode": {
    "name": "ipython",
    "version": 3
   },
   "file_extension": ".py",
   "mimetype": "text/x-python",
   "name": "python",
   "nbconvert_exporter": "python",
   "pygments_lexer": "ipython3",
   "version": "3.7.3"
  }
 },
 "nbformat": 4,
 "nbformat_minor": 2
}
